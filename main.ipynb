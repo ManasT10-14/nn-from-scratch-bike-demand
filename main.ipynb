{
 "cells": [
  {
   "cell_type": "code",
   "execution_count": 1,
   "id": "5497083e-06ed-4984-9955-afe88867ac61",
   "metadata": {},
   "outputs": [],
   "source": [
    "import pandas as pd"
   ]
  },
  {
   "cell_type": "code",
   "execution_count": 2,
   "id": "95fb7ab5-749a-4fa4-b6bf-31c1eeff721b",
   "metadata": {},
   "outputs": [
    {
     "data": {
      "text/html": [
       "<div>\n",
       "<style scoped>\n",
       "    .dataframe tbody tr th:only-of-type {\n",
       "        vertical-align: middle;\n",
       "    }\n",
       "\n",
       "    .dataframe tbody tr th {\n",
       "        vertical-align: top;\n",
       "    }\n",
       "\n",
       "    .dataframe thead th {\n",
       "        text-align: right;\n",
       "    }\n",
       "</style>\n",
       "<table border=\"1\" class=\"dataframe\">\n",
       "  <thead>\n",
       "    <tr style=\"text-align: right;\">\n",
       "      <th></th>\n",
       "      <th>datetime</th>\n",
       "      <th>season</th>\n",
       "      <th>holiday</th>\n",
       "      <th>workingday</th>\n",
       "      <th>weather</th>\n",
       "      <th>temp</th>\n",
       "      <th>atemp</th>\n",
       "      <th>humidity</th>\n",
       "      <th>windspeed</th>\n",
       "      <th>casual</th>\n",
       "      <th>registered</th>\n",
       "      <th>count</th>\n",
       "    </tr>\n",
       "  </thead>\n",
       "  <tbody>\n",
       "    <tr>\n",
       "      <th>0</th>\n",
       "      <td>2011-01-01 00:00:00</td>\n",
       "      <td>1</td>\n",
       "      <td>0</td>\n",
       "      <td>0</td>\n",
       "      <td>1</td>\n",
       "      <td>9.84</td>\n",
       "      <td>14.395</td>\n",
       "      <td>81</td>\n",
       "      <td>0.0000</td>\n",
       "      <td>3</td>\n",
       "      <td>13</td>\n",
       "      <td>16</td>\n",
       "    </tr>\n",
       "    <tr>\n",
       "      <th>1</th>\n",
       "      <td>2011-01-01 01:00:00</td>\n",
       "      <td>1</td>\n",
       "      <td>0</td>\n",
       "      <td>0</td>\n",
       "      <td>1</td>\n",
       "      <td>9.02</td>\n",
       "      <td>13.635</td>\n",
       "      <td>80</td>\n",
       "      <td>0.0000</td>\n",
       "      <td>8</td>\n",
       "      <td>32</td>\n",
       "      <td>40</td>\n",
       "    </tr>\n",
       "    <tr>\n",
       "      <th>2</th>\n",
       "      <td>2011-01-01 02:00:00</td>\n",
       "      <td>1</td>\n",
       "      <td>0</td>\n",
       "      <td>0</td>\n",
       "      <td>1</td>\n",
       "      <td>9.02</td>\n",
       "      <td>13.635</td>\n",
       "      <td>80</td>\n",
       "      <td>0.0000</td>\n",
       "      <td>5</td>\n",
       "      <td>27</td>\n",
       "      <td>32</td>\n",
       "    </tr>\n",
       "    <tr>\n",
       "      <th>3</th>\n",
       "      <td>2011-01-01 03:00:00</td>\n",
       "      <td>1</td>\n",
       "      <td>0</td>\n",
       "      <td>0</td>\n",
       "      <td>1</td>\n",
       "      <td>9.84</td>\n",
       "      <td>14.395</td>\n",
       "      <td>75</td>\n",
       "      <td>0.0000</td>\n",
       "      <td>3</td>\n",
       "      <td>10</td>\n",
       "      <td>13</td>\n",
       "    </tr>\n",
       "    <tr>\n",
       "      <th>4</th>\n",
       "      <td>2011-01-01 04:00:00</td>\n",
       "      <td>1</td>\n",
       "      <td>0</td>\n",
       "      <td>0</td>\n",
       "      <td>1</td>\n",
       "      <td>9.84</td>\n",
       "      <td>14.395</td>\n",
       "      <td>75</td>\n",
       "      <td>0.0000</td>\n",
       "      <td>0</td>\n",
       "      <td>1</td>\n",
       "      <td>1</td>\n",
       "    </tr>\n",
       "    <tr>\n",
       "      <th>...</th>\n",
       "      <td>...</td>\n",
       "      <td>...</td>\n",
       "      <td>...</td>\n",
       "      <td>...</td>\n",
       "      <td>...</td>\n",
       "      <td>...</td>\n",
       "      <td>...</td>\n",
       "      <td>...</td>\n",
       "      <td>...</td>\n",
       "      <td>...</td>\n",
       "      <td>...</td>\n",
       "      <td>...</td>\n",
       "    </tr>\n",
       "    <tr>\n",
       "      <th>10881</th>\n",
       "      <td>2012-12-19 19:00:00</td>\n",
       "      <td>4</td>\n",
       "      <td>0</td>\n",
       "      <td>1</td>\n",
       "      <td>1</td>\n",
       "      <td>15.58</td>\n",
       "      <td>19.695</td>\n",
       "      <td>50</td>\n",
       "      <td>26.0027</td>\n",
       "      <td>7</td>\n",
       "      <td>329</td>\n",
       "      <td>336</td>\n",
       "    </tr>\n",
       "    <tr>\n",
       "      <th>10882</th>\n",
       "      <td>2012-12-19 20:00:00</td>\n",
       "      <td>4</td>\n",
       "      <td>0</td>\n",
       "      <td>1</td>\n",
       "      <td>1</td>\n",
       "      <td>14.76</td>\n",
       "      <td>17.425</td>\n",
       "      <td>57</td>\n",
       "      <td>15.0013</td>\n",
       "      <td>10</td>\n",
       "      <td>231</td>\n",
       "      <td>241</td>\n",
       "    </tr>\n",
       "    <tr>\n",
       "      <th>10883</th>\n",
       "      <td>2012-12-19 21:00:00</td>\n",
       "      <td>4</td>\n",
       "      <td>0</td>\n",
       "      <td>1</td>\n",
       "      <td>1</td>\n",
       "      <td>13.94</td>\n",
       "      <td>15.910</td>\n",
       "      <td>61</td>\n",
       "      <td>15.0013</td>\n",
       "      <td>4</td>\n",
       "      <td>164</td>\n",
       "      <td>168</td>\n",
       "    </tr>\n",
       "    <tr>\n",
       "      <th>10884</th>\n",
       "      <td>2012-12-19 22:00:00</td>\n",
       "      <td>4</td>\n",
       "      <td>0</td>\n",
       "      <td>1</td>\n",
       "      <td>1</td>\n",
       "      <td>13.94</td>\n",
       "      <td>17.425</td>\n",
       "      <td>61</td>\n",
       "      <td>6.0032</td>\n",
       "      <td>12</td>\n",
       "      <td>117</td>\n",
       "      <td>129</td>\n",
       "    </tr>\n",
       "    <tr>\n",
       "      <th>10885</th>\n",
       "      <td>2012-12-19 23:00:00</td>\n",
       "      <td>4</td>\n",
       "      <td>0</td>\n",
       "      <td>1</td>\n",
       "      <td>1</td>\n",
       "      <td>13.12</td>\n",
       "      <td>16.665</td>\n",
       "      <td>66</td>\n",
       "      <td>8.9981</td>\n",
       "      <td>4</td>\n",
       "      <td>84</td>\n",
       "      <td>88</td>\n",
       "    </tr>\n",
       "  </tbody>\n",
       "</table>\n",
       "<p>10886 rows × 12 columns</p>\n",
       "</div>"
      ],
      "text/plain": [
       "                  datetime  season  holiday  workingday  weather   temp  \\\n",
       "0      2011-01-01 00:00:00       1        0           0        1   9.84   \n",
       "1      2011-01-01 01:00:00       1        0           0        1   9.02   \n",
       "2      2011-01-01 02:00:00       1        0           0        1   9.02   \n",
       "3      2011-01-01 03:00:00       1        0           0        1   9.84   \n",
       "4      2011-01-01 04:00:00       1        0           0        1   9.84   \n",
       "...                    ...     ...      ...         ...      ...    ...   \n",
       "10881  2012-12-19 19:00:00       4        0           1        1  15.58   \n",
       "10882  2012-12-19 20:00:00       4        0           1        1  14.76   \n",
       "10883  2012-12-19 21:00:00       4        0           1        1  13.94   \n",
       "10884  2012-12-19 22:00:00       4        0           1        1  13.94   \n",
       "10885  2012-12-19 23:00:00       4        0           1        1  13.12   \n",
       "\n",
       "        atemp  humidity  windspeed  casual  registered  count  \n",
       "0      14.395        81     0.0000       3          13     16  \n",
       "1      13.635        80     0.0000       8          32     40  \n",
       "2      13.635        80     0.0000       5          27     32  \n",
       "3      14.395        75     0.0000       3          10     13  \n",
       "4      14.395        75     0.0000       0           1      1  \n",
       "...       ...       ...        ...     ...         ...    ...  \n",
       "10881  19.695        50    26.0027       7         329    336  \n",
       "10882  17.425        57    15.0013      10         231    241  \n",
       "10883  15.910        61    15.0013       4         164    168  \n",
       "10884  17.425        61     6.0032      12         117    129  \n",
       "10885  16.665        66     8.9981       4          84     88  \n",
       "\n",
       "[10886 rows x 12 columns]"
      ]
     },
     "execution_count": 2,
     "metadata": {},
     "output_type": "execute_result"
    }
   ],
   "source": [
    "df = pd.read_csv(\"data/train.csv\")\n",
    "df"
   ]
  },
  {
   "cell_type": "code",
   "execution_count": 12,
   "id": "73307192-8411-4e51-be89-5655b1d6e713",
   "metadata": {},
   "outputs": [],
   "source": [
    "import pandas as pd\n",
    "import numpy as np\n",
    "from sklearn.model_selection import train_test_split\n",
    "from sklearn.preprocessing import MinMaxScaler\n",
    "\n",
    "df = pd.read_csv(\"data/train.csv\")\n",
    "\n",
    "df.drop(columns=[\"casual\", \"registered\"], inplace=True)\n",
    "\n",
    "df[\"datetime\"] = pd.to_datetime(df[\"datetime\"])\n",
    "df[\"hour\"] = df[\"datetime\"].dt.hour\n",
    "df[\"day\"] = df[\"datetime\"].dt.day\n",
    "df[\"month\"] = df[\"datetime\"].dt.month\n",
    "df[\"weekday\"] = df[\"datetime\"].dt.weekday\n",
    "\n",
    "df.drop(columns=[\"datetime\"], inplace=True)\n",
    "\n",
    "df = pd.get_dummies(df, columns=[\"season\", \"weather\"], drop_first=False)\n",
    "\n",
    "X = df.drop(columns=[\"count\"])\n",
    "y = df[\"count\"]\n",
    "\n",
    "y = np.log1p(y)\n",
    "\n",
    "scaler = MinMaxScaler()\n",
    "X_scaled = scaler.fit_transform(X)\n",
    "\n",
    "X_train, X_test, y_train, y_test = train_test_split(\n",
    "    X_scaled, y.values.reshape(-1, 1), test_size=0.2, random_state=42\n",
    ")\n",
    "\n",
    "X_train = X_train.astype(np.float32)\n",
    "X_test = X_test.astype(np.float32)\n",
    "y_train = y_train.astype(np.float32)\n",
    "y_test = y_test.astype(np.float32)\n",
    "\n"
   ]
  },
  {
   "cell_type": "code",
   "execution_count": 21,
   "id": "675d9d00-4dad-41c2-9fc1-a6157ddaf52f",
   "metadata": {},
   "outputs": [
    {
     "data": {
      "text/plain": [
       "(18, 8708)"
      ]
     },
     "execution_count": 21,
     "metadata": {},
     "output_type": "execute_result"
    }
   ],
   "source": [
    "X_train.T.shape"
   ]
  },
  {
   "cell_type": "code",
   "execution_count": 19,
   "id": "48d2ebce-aa03-40af-b133-4193cd6c0e8e",
   "metadata": {},
   "outputs": [
    {
     "data": {
      "text/plain": [
       "(8708, 18)"
      ]
     },
     "execution_count": 19,
     "metadata": {},
     "output_type": "execute_result"
    }
   ],
   "source": [
    "X_train.shape"
   ]
  },
  {
   "cell_type": "markdown",
   "id": "ace82226-e7c7-4df2-a41e-aee68273663f",
   "metadata": {},
   "source": [
    "### WIEGHTS AND BIAS INITIALIZATION"
   ]
  },
  {
   "cell_type": "code",
   "execution_count": 26,
   "id": "5ad3cd8a-1298-4db1-bfd8-9d0582922133",
   "metadata": {},
   "outputs": [],
   "source": [
    "def he_init_weights(in_shape:int,out_shape:int):\n",
    "    return np.random.randn(out_shape,in_shape)*np.sqrt(2.0/in_shape)\n",
    "\n",
    "def bias_init(out_shape:int):\n",
    "    return np.zeros((out_shape,1))"
   ]
  },
  {
   "cell_type": "markdown",
   "id": "1f19a0ef-a821-4018-8fe8-d724060288b5",
   "metadata": {},
   "source": [
    "### RELU"
   ]
  },
  {
   "cell_type": "code",
   "execution_count": 34,
   "id": "ade21323-fb77-4607-a454-4b4b69542934",
   "metadata": {},
   "outputs": [],
   "source": [
    "def relu(output:float):\n",
    "    return np.maximum(0,output)\n",
    "\n",
    "def relu_derivative(Z):\n",
    "    return (Z > 0).astype(float)"
   ]
  },
  {
   "cell_type": "markdown",
   "id": "394ca58c-07d2-4ecb-8c10-ef69a40ed8aa",
   "metadata": {},
   "source": [
    "### LOSS FUNCTIONS"
   ]
  },
  {
   "cell_type": "code",
   "execution_count": 36,
   "id": "d73a5038-9c62-4c0d-868a-b524da65e9a4",
   "metadata": {},
   "outputs": [],
   "source": [
    "def MSE(y_pred,y_true):\n",
    "    return np.mean(np.square(y_true-y_pred))\n",
    "\n",
    "def dMSE(y_pred,y_true):\n",
    "    return (2*(y_pred-y_true))/(y_true.shape[1])\n",
    "\n",
    "def r2_score(y_true, y_pred):\n",
    "    ss_res = np.sum((y_true - y_pred) ** 2)             \n",
    "    ss_tot = np.sum((y_true - np.mean(y_true)) ** 2)     \n",
    "    return 1 - (ss_res / ss_tot)\n"
   ]
  },
  {
   "cell_type": "markdown",
   "id": "272628d5-7122-48ef-aeff-202da3f92a14",
   "metadata": {},
   "source": [
    "### MODEL WITH FORWARD AND BACKWARD PROPOGATION"
   ]
  },
  {
   "cell_type": "code",
   "execution_count": 35,
   "id": "cc9f5b8a-c7d0-4b1f-b352-cfd1f34a104f",
   "metadata": {},
   "outputs": [],
   "source": [
    "class LinearModel:\n",
    "    def __init__(self,input_shape:int,lr:float):\n",
    "        self.lr = lr\n",
    "        \n",
    "        self.W_layer1 = he_init_weights(input_shape,128)\n",
    "        self.B_layer1 = bias_init(128)\n",
    "        \n",
    "        self.W_layer2 =he_init_weights(128,64)\n",
    "        self.B_layer2 = bias_init(64)\n",
    "        \n",
    "        self.W_output = he_init_weights(64,1)\n",
    "        self.B_output = bias_init(1)\n",
    "\n",
    "    def forward(self,X:np.ndarray):\n",
    "        self.Z1 = np.matmul(self.W_layer1, X) + self.B_layer1\n",
    "        self.A1 = relu(self.Z1)\n",
    "    \n",
    "        self.Z2 = np.matmul(self.W_layer2, self.A1) + self.B_layer2\n",
    "        self.A2 = relu(self.Z2)\n",
    "    \n",
    "        self.Z3 = np.matmul(self.W_output, self.A2) + self.B_output\n",
    "        return self.Z3\n",
    "\n",
    "    def backward(self, X, Y_true, Y_pred):\n",
    "        m = Y_true.shape[1]\n",
    "\n",
    "        dZ3 = (2 / m) * (Y_pred - Y_true)      \n",
    "        dW3 = np.dot(dZ3, self.A2.T)              \n",
    "        dB3 = np.sum(dZ3, axis=1, keepdims=True) \n",
    "    \n",
    "\n",
    "        dA2 = np.dot(self.W_output.T, dZ3)\n",
    "        dZ2 = dA2 * relu_derivative(self.Z2)  \n",
    "        dW2 = np.dot(dZ2, self.A1.T)                \n",
    "        dB2 = np.sum(dZ2, axis=1, keepdims=True) \n",
    "    \n",
    "\n",
    "        dA1 = np.dot(self.W_layer2.T, dZ2)     \n",
    "        dZ1 = dA1 * relu_derivative(self.Z1)     \n",
    "        dW1 = np.dot(dZ1, X.T)             \n",
    "        dB1 = np.sum(dZ1, axis=1, keepdims=True) \n",
    "    \n",
    "\n",
    "        self.W_output -= self.lr * dW3\n",
    "        self.B_output -= self.lr * dB3\n",
    "    \n",
    "        self.W_layer2 -= self.lr * dW2\n",
    "        self.B_layer2 -= self.lr * dB2\n",
    "    \n",
    "        self.W_layer1 -= self.lr * dW1\n",
    "        self.B_layer1 -= self.lr * dB1\n"
   ]
  },
  {
   "cell_type": "code",
   "execution_count": 37,
   "id": "78f59b6a-ac69-4b70-85a5-ceb7981ec448",
   "metadata": {},
   "outputs": [
    {
     "data": {
      "text/plain": [
       "18"
      ]
     },
     "execution_count": 37,
     "metadata": {},
     "output_type": "execute_result"
    }
   ],
   "source": [
    "X_train.shape[1]"
   ]
  },
  {
   "cell_type": "markdown",
   "id": "58835674-1b9e-4158-9bd6-fdcc32e0c7f8",
   "metadata": {},
   "source": [
    "### FINAL TRAINING LOOP"
   ]
  },
  {
   "cell_type": "code",
   "execution_count": 48,
   "id": "848d3c24-ce07-4a79-8e89-ab5af80dac83",
   "metadata": {},
   "outputs": [],
   "source": [
    "from tqdm.auto import tqdm\n",
    "\n",
    "\n",
    "def train(epochs:int,learning_rate:float):\n",
    "    \n",
    "    train_loss = []\n",
    "    test_loss = []\n",
    "    \n",
    "    train_r2_scores = []\n",
    "    test_r2_scores = []\n",
    "    \n",
    "    model = LinearModel(X_train.shape[1],learning_rate)\n",
    "    \n",
    "    for epoch in tqdm(range(epochs)):\n",
    "        y_pred_train = model.forward(X_train.T)\n",
    "        loss_train = MSE(y_pred_train, y_train.T)\n",
    "        \n",
    "        model.backward(X_train.T, y_train.T, y_pred_train)\n",
    "    \n",
    "        y_pred_test = model.forward(X_test.T)\n",
    "        loss_test = MSE(y_pred_test, y_test.T)\n",
    "    \n",
    "        r2_train = r2_score(y_train.T, y_pred_train)\n",
    "        r2_test = r2_score(y_test.T, y_pred_test)\n",
    "    \n",
    "    \n",
    "        \n",
    "        train_loss.append(loss_train)\n",
    "        test_loss.append(loss_test)\n",
    "    \n",
    "        train_r2_scores.append(r2_train)\n",
    "        test_r2_scores.append(r2_test)\n",
    "        \n",
    "        \n",
    "        if epoch % 100 == 0:\n",
    "            print(f\"Epoch {epoch} | Train loss : {loss_train:.4f} Train R2 score : {r2_train:.4f} | Test loss : {loss_test:.4f} Test R2 score : {r2_test:.4f}\")\n",
    "    \n",
    "    \n",
    "    result = {\n",
    "        \"Model\": model.__class__.__name__,\n",
    "        \"train loss\": np.mean(train_loss),\n",
    "        \"test loss\": np.mean(test_loss),\n",
    "        \"train R2 score\": np.mean(train_r2_scores),\n",
    "        \"test R2 score\": np.mean(test_r2_scores)\n",
    "    }\n",
    "    return train_loss,test_loss,train_r2_scores,test_r2_scores,result"
   ]
  },
  {
   "cell_type": "markdown",
   "id": "e8130bda-22cf-4ac6-8370-95ac0f55a308",
   "metadata": {},
   "source": [
    "### TRAINING THE MODEL FOR 1000 EPOCHS WITH LEARNING RATE OF 0.001"
   ]
  },
  {
   "cell_type": "code",
   "execution_count": 49,
   "id": "2ca6a8ec-3ee1-4ced-b008-859767ce2d28",
   "metadata": {},
   "outputs": [
    {
     "data": {
      "application/vnd.jupyter.widget-view+json": {
       "model_id": "a46aa6afebc94b4a93ab7c952a2e9c2a",
       "version_major": 2,
       "version_minor": 0
      },
      "text/plain": [
       "  0%|          | 0/1000 [00:00<?, ?it/s]"
      ]
     },
     "metadata": {},
     "output_type": "display_data"
    },
    {
     "name": "stdout",
     "output_type": "stream",
     "text": [
      "Epoch 0 | Train loss : 24.7615 Train R2 score : -11.3580 | Test loss : 22.1633 Test R2 score : -9.7667\n",
      "Epoch 100 | Train loss : 1.7274 Train R2 score : 0.1379 | Test loss : 1.7469 Test R2 score : 0.1514\n",
      "Epoch 200 | Train loss : 1.4820 Train R2 score : 0.2604 | Test loss : 1.4936 Test R2 score : 0.2744\n",
      "Epoch 300 | Train loss : 1.3490 Train R2 score : 0.3268 | Test loss : 1.3580 Test R2 score : 0.3403\n",
      "Epoch 400 | Train loss : 1.2698 Train R2 score : 0.3662 | Test loss : 1.2776 Test R2 score : 0.3793\n",
      "Epoch 500 | Train loss : 1.2200 Train R2 score : 0.3911 | Test loss : 1.2270 Test R2 score : 0.4039\n",
      "Epoch 600 | Train loss : 1.1873 Train R2 score : 0.4074 | Test loss : 1.1940 Test R2 score : 0.4200\n",
      "Epoch 700 | Train loss : 1.1644 Train R2 score : 0.4189 | Test loss : 1.1713 Test R2 score : 0.4310\n",
      "Epoch 800 | Train loss : 1.1478 Train R2 score : 0.4272 | Test loss : 1.1551 Test R2 score : 0.4389\n",
      "Epoch 900 | Train loss : 1.1353 Train R2 score : 0.4334 | Test loss : 1.1427 Test R2 score : 0.4449\n"
     ]
    }
   ],
   "source": [
    "train_loss,test_loss,train_r2_scores,test_r2_scores,result = train(1000,0.001)"
   ]
  },
  {
   "cell_type": "code",
   "execution_count": 51,
   "id": "ec9afa4b-7a8a-4dc6-92db-cad5f8af3775",
   "metadata": {},
   "outputs": [
    {
     "data": {
      "text/plain": [
       "{'Model': 'LinearModel',\n",
       " 'train loss': 1.5146088618990365,\n",
       " 'test loss': 1.5001047697304883,\n",
       " 'train R2 score': 0.24408304285751792,\n",
       " 'test R2 score': 0.2712650862222426}"
      ]
     },
     "execution_count": 51,
     "metadata": {},
     "output_type": "execute_result"
    }
   ],
   "source": [
    "result"
   ]
  },
  {
   "cell_type": "markdown",
   "id": "ad78aa1f-9300-4581-93c9-358cf5a96d82",
   "metadata": {},
   "source": [
    "### PLOTTING THE CURVES"
   ]
  },
  {
   "cell_type": "code",
   "execution_count": 56,
   "id": "90295f3f-02ac-47df-a437-91de3091dcaf",
   "metadata": {},
   "outputs": [],
   "source": [
    "from typing import List\n",
    "import matplotlib.pyplot as plt\n",
    "def plot(train_loss:List[float],test_loss:List[float],train_r2:List[float],test_r2:List[float]):\n",
    "    \n",
    "    fig = plt.figure(figsize=(15,7))\n",
    "    epochs = [x for x in range(0,1000)]\n",
    "\n",
    "    ax1 = plt.subplot(2,2,1)\n",
    "    ax1.plot(epochs,train_loss)\n",
    "    ax1.set_title(\"Train Loss\")\n",
    "\n",
    "    ax2 = plt.subplot(2,2,2)\n",
    "    ax2.plot(epochs,train_r2)\n",
    "    ax2.set_title(\"Train R2 Score\")\n",
    "    \n",
    "    ax3 = plt.subplot(2,2,3)\n",
    "    ax3.plot(epochs,test_loss)\n",
    "    ax3.set_title(\"Test Loss\")\n",
    "    \n",
    "    ax4 = plt.subplot(2,2,4)\n",
    "    ax4.plot(epochs,test_r2)\n",
    "    ax4.set_title(\"Test R2 Score\")\n",
    "\n",
    "    plt.suptitle(\"Result:\")"
   ]
  },
  {
   "cell_type": "code",
   "execution_count": 57,
   "id": "a50e15ed-c821-4455-b7bc-9f473f67e40f",
   "metadata": {},
   "outputs": [
    {
     "data": {
      "image/png": "[encoded data removed]",
      "text/plain": [
       "<Figure size 1500x700 with 4 Axes>"
      ]
     },
     "metadata": {},
     "output_type": "display_data"
    }
   ],
   "source": [
    "plot(train_loss,test_loss,train_r2_scores,test_r2_scores)"
   ]
  },
  {
   "cell_type": "code",
   "execution_count": 60,
   "id": "0b84366a-d0c8-4276-8329-0dca1fd43012",
   "metadata": {},
   "outputs": [
    {
     "data": {
      "text/plain": [
       "0.4381995673773097"
      ]
     },
     "execution_count": 60,
     "metadata": {},
     "output_type": "execute_result"
    }
   ],
   "source": [
    "train_r2_scores[-1]"
   ]
  },
  {
   "cell_type": "code",
   "execution_count": 61,
   "id": "e897a88f-a604-4173-9bac-948e2ff246af",
   "metadata": {},
   "outputs": [
    {
     "data": {
      "text/plain": [
       "0.44959871080204394"
      ]
     },
     "execution_count": 61,
     "metadata": {},
     "output_type": "execute_result"
    }
   ],
   "source": [
    "test_r2_scores[-1]"
   ]
  },
  {
   "cell_type": "code",
   "execution_count": null,
   "id": "d6235e56-fdbb-40d5-b3d7-e7e886a52aec",
   "metadata": {},
   "outputs": [],
   "source": []
  }
 ],
 "metadata": {
  "kernelspec": {
   "display_name": "Python 3 (ipykernel)",
   "language": "python",
   "name": "python3"
  },
  "language_info": {
   "codemirror_mode": {
    "name": "ipython",
    "version": 3
   },
   "file_extension": ".py",
   "mimetype": "text/x-python",
   "name": "python",
   "nbconvert_exporter": "python",
   "pygments_lexer": "ipython3",
   "version": "3.11.3"
  }
 },
 "nbformat": 4,
 "nbformat_minor": 5
}
